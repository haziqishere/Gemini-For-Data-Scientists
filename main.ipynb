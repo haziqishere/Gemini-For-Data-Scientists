{
  "cells": [
    {
      "cell_type": "code",
      "execution_count": 1,
      "metadata": {
        "executionInfo": {
          "elapsed": 5877,
          "status": "ok",
          "timestamp": 1716020838730,
          "user": {
            "displayName": "",
            "userId": ""
          },
          "user_tz": -480
        },
        "id": "kx5M6AH2z6RB"
      },
      "outputs": [],
      "source": [
        "from google.cloud import bigquery\n",
        "from google.cloud import aiplatform\n",
        "import bigframes.pandas as bpd\n",
        "import pandas as pd\n",
        "from vertexai.language_models._language_models import TextGenerationModel\n",
        "from bigframes.ml.cluster import KMeans\n",
        "from bigframes.ml.model_selection import train_test_split"
      ]
    },
    {
      "cell_type": "code",
      "execution_count": 3,
      "metadata": {
        "executionInfo": {
          "elapsed": 8,
          "status": "ok",
          "timestamp": 1716021001850,
          "user": {
            "displayName": "",
            "userId": ""
          },
          "user_tz": -480
        },
        "id": "lu-9hvMI0edn"
      },
      "outputs": [],
      "source": [
        "project_id = 'qwiklabs-gcp-02-04df2a73f7b5'\n",
        "dataset_name = \"ecommerce\"\n",
        "model_name = \"customer_segmentation_model\"\n",
        "table_name = \"customer_stats\"\n",
        "location = \"us-central1\"\n",
        "client = bigquery.Client(project=project_id)\n",
        "aiplatform.init(project=project_id, location=location)"
      ]
    },
    {
      "cell_type": "code",
      "execution_count": 4,
      "metadata": {
        "colab": {
          "base_uri": "https://localhost:8080/",
          "height": 85,
          "referenced_widgets": [
            "6d685895235a43758172538763528f5e",
            "4805c45e604f411db08047228a190809",
            "783993e3d10a4b73b319f73ed1a5b465",
            "5381f2c3c889489494c25c6ab8ae2859",
            "387fdf53b701454ba6d0738a775b582e",
            "5dfd11a90156463893809289a079505b",
            "78a6de04057a4959831cecdb3366900f",
            "338beb17c4e94c04bdc63f7a80ab5cf1",
            "8109e742da024e8f82afdc8f4ca541a5",
            "cf5890c54c384715873b0f76bf6ece02",
            "bf8eb63256ef4e9ebcbad458655a3049"
          ]
        },
        "executionInfo": {
          "elapsed": 2624,
          "status": "ok",
          "timestamp": 1716021048639,
          "user": {
            "displayName": "",
            "userId": ""
          },
          "user_tz": -480
        },
        "id": "Daj32V9Y0wzW",
        "outputId": "bc0daebf-fecb-48d1-89b8-34c2a48b45bf"
      },
      "outputs": [
        {
          "data": {
            "application/vnd.jupyter.widget-view+json": {
              "model_id": "6d685895235a43758172538763528f5e",
              "version_major": 2,
              "version_minor": 0
            },
            "text/plain": [
              "Query is running:   0%|          |"
            ]
          },
          "metadata": {},
          "output_type": "display_data"
        },
        {
          "data": {
            "text/html": [
              "\n",
              "  <div id=\"df-37ea9411-4d16-4aeb-9ca5-5ad558466e97\" class=\"colab-df-container\">\n",
              "    <div>\n",
              "<style scoped>\n",
              "    .dataframe tbody tr th:only-of-type {\n",
              "        vertical-align: middle;\n",
              "    }\n",
              "\n",
              "    .dataframe tbody tr th {\n",
              "        vertical-align: top;\n",
              "    }\n",
              "\n",
              "    .dataframe thead th {\n",
              "        text-align: right;\n",
              "    }\n",
              "</style>\n",
              "<table border=\"1\" class=\"dataframe\">\n",
              "  <thead>\n",
              "    <tr style=\"text-align: right;\">\n",
              "      <th></th>\n",
              "    </tr>\n",
              "  </thead>\n",
              "  <tbody>\n",
              "  </tbody>\n",
              "</table>\n",
              "</div>\n",
              "    <div class=\"colab-df-buttons\">\n",
              "\n",
              "  <div class=\"colab-df-container\">\n",
              "    <button class=\"colab-df-convert\" onclick=\"convertToInteractive('df-37ea9411-4d16-4aeb-9ca5-5ad558466e97')\"\n",
              "            title=\"Convert this dataframe to an interactive table.\"\n",
              "            style=\"display:none;\">\n",
              "\n",
              "  <svg xmlns=\"http://www.w3.org/2000/svg\" height=\"24px\" viewBox=\"0 -960 960 960\">\n",
              "    <path d=\"M120-120v-720h720v720H120Zm60-500h600v-160H180v160Zm220 220h160v-160H400v160Zm0 220h160v-160H400v160ZM180-400h160v-160H180v160Zm440 0h160v-160H620v160ZM180-180h160v-160H180v160Zm440 0h160v-160H620v160Z\"/>\n",
              "  </svg>\n",
              "    </button>\n",
              "\n",
              "  <style>\n",
              "    .colab-df-container {\n",
              "      display:flex;\n",
              "      gap: 12px;\n",
              "    }\n",
              "\n",
              "    .colab-df-convert {\n",
              "      background-color: #E8F0FE;\n",
              "      border: none;\n",
              "      border-radius: 50%;\n",
              "      cursor: pointer;\n",
              "      display: none;\n",
              "      fill: #1967D2;\n",
              "      height: 32px;\n",
              "      padding: 0 0 0 0;\n",
              "      width: 32px;\n",
              "    }\n",
              "\n",
              "    .colab-df-convert:hover {\n",
              "      background-color: #E2EBFA;\n",
              "      box-shadow: 0px 1px 2px rgba(60, 64, 67, 0.3), 0px 1px 3px 1px rgba(60, 64, 67, 0.15);\n",
              "      fill: #174EA6;\n",
              "    }\n",
              "\n",
              "    .colab-df-buttons div {\n",
              "      margin-bottom: 4px;\n",
              "    }\n",
              "\n",
              "    [theme=dark] .colab-df-convert {\n",
              "      background-color: #3B4455;\n",
              "      fill: #D2E3FC;\n",
              "    }\n",
              "\n",
              "    [theme=dark] .colab-df-convert:hover {\n",
              "      background-color: #434B5C;\n",
              "      box-shadow: 0px 1px 3px 1px rgba(0, 0, 0, 0.15);\n",
              "      filter: drop-shadow(0px 1px 2px rgba(0, 0, 0, 0.3));\n",
              "      fill: #FFFFFF;\n",
              "    }\n",
              "  </style>\n",
              "\n",
              "    <script>\n",
              "      const buttonEl =\n",
              "        document.querySelector('#df-37ea9411-4d16-4aeb-9ca5-5ad558466e97 button.colab-df-convert');\n",
              "      buttonEl.style.display =\n",
              "        google.colab.kernel.accessAllowed ? 'block' : 'none';\n",
              "\n",
              "      async function convertToInteractive(key) {\n",
              "        const element = document.querySelector('#df-37ea9411-4d16-4aeb-9ca5-5ad558466e97');\n",
              "        const dataTable =\n",
              "          await google.colab.kernel.invokeFunction('convertToInteractive',\n",
              "                                                    [key], {});\n",
              "        if (!dataTable) return;\n",
              "\n",
              "        const docLinkHtml = 'Like what you see? Visit the ' +\n",
              "          '<a target=\"_blank\" href=https://colab.research.google.com/notebooks/data_table.ipynb>data table notebook</a>'\n",
              "          + ' to learn more about interactive tables.';\n",
              "        element.innerHTML = '';\n",
              "        dataTable['output_type'] = 'display_data';\n",
              "        await google.colab.output.renderOutput(dataTable, element);\n",
              "        const docLink = document.createElement('div');\n",
              "        docLink.innerHTML = docLinkHtml;\n",
              "        element.appendChild(docLink);\n",
              "      }\n",
              "    </script>\n",
              "  </div>\n",
              "\n",
              "    </div>\n",
              "  </div>\n"
            ],
            "text/plain": [
              "Empty DataFrame\n",
              "Columns: []\n",
              "Index: []"
            ]
          },
          "execution_count": 4,
          "metadata": {},
          "output_type": "execute_result"
        }
      ],
      "source": [
        "%%bigquery\n",
        "CREATE OR REPLACE TABLE ecommerce.customer_stats AS\n",
        "SELECT\n",
        "  user_id,\n",
        "  DATE_DIFF(CURRENT_DATE(), CAST(MAX(order_created_date) AS DATE), day) AS days_since_last_order, ---RECENCY\n",
        "  COUNT(order_id) AS count_orders, --FREQUENCY\n",
        "  AVG(sale_price) AS average_spend --MONETARY\n",
        "  FROM (\n",
        "      SELECT\n",
        "        user_id,\n",
        "        order_id,\n",
        "        sale_price,\n",
        "        created_at AS order_created_date\n",
        "        FROM `bigquery-public-data.thelook_ecommerce.order_items`\n",
        "        WHERE\n",
        "        created_at\n",
        "            BETWEEN '2022-01-01' AND '2023-01-01'\n",
        "  )\n",
        "GROUP BY user_id;"
      ]
    },
    {
      "cell_type": "code",
      "execution_count": 5,
      "metadata": {
        "colab": {
          "base_uri": "https://localhost:8080/",
          "height": 496
        },
        "executionInfo": {
          "elapsed": 12400,
          "status": "ok",
          "timestamp": 1716021191296,
          "user": {
            "displayName": "",
            "userId": ""
          },
          "user_tz": -480
        },
        "id": "cNDKXdUc00GZ",
        "outputId": "4b6bb771-9bad-47f1-bb85-7a22c59f4cfe"
      },
      "outputs": [
        {
          "name": "stderr",
          "output_type": "stream",
          "text": [
            "/usr/local/lib/python3.10/dist-packages/bigframes/pandas/__init__.py:398: UnknownLocationWarning: The location 'US' is set to an unknown value.\n",
            "  options.bigquery.location = table.location\n"
          ]
        },
        {
          "data": {
            "text/html": [
              "Query job 23d344f4-48a0-4ca7-a305-5c119173ecf4 is DONE. 662.5 kB processed. <a target=\"_blank\" href=\"https://console.cloud.google.com/bigquery?project=qwiklabs-gcp-02-04df2a73f7b5&j=bq:US:23d344f4-48a0-4ca7-a305-5c119173ecf4&page=queryresults\">Open Job</a>"
            ],
            "text/plain": [
              "<IPython.core.display.HTML object>"
            ]
          },
          "metadata": {},
          "output_type": "display_data"
        },
        {
          "data": {
            "text/html": [
              "Query job 6c62ee87-edc7-4044-858f-4d7a2fec5765 is DONE. 0 Bytes processed. <a target=\"_blank\" href=\"https://console.cloud.google.com/bigquery?project=qwiklabs-gcp-02-04df2a73f7b5&j=bq:US:6c62ee87-edc7-4044-858f-4d7a2fec5765&page=queryresults\">Open Job</a>"
            ],
            "text/plain": [
              "<IPython.core.display.HTML object>"
            ]
          },
          "metadata": {},
          "output_type": "display_data"
        },
        {
          "data": {
            "text/html": [
              "Query job 4329f3d9-00ab-4483-ae3c-29bf2127aa10 is DONE. 480 Bytes processed. <a target=\"_blank\" href=\"https://console.cloud.google.com/bigquery?project=qwiklabs-gcp-02-04df2a73f7b5&j=bq:US:4329f3d9-00ab-4483-ae3c-29bf2127aa10&page=queryresults\">Open Job</a>"
            ],
            "text/plain": [
              "<IPython.core.display.HTML object>"
            ]
          },
          "metadata": {},
          "output_type": "display_data"
        },
        {
          "data": {
            "text/html": [
              "<div>\n",
              "<style scoped>\n",
              "    .dataframe tbody tr th:only-of-type {\n",
              "        vertical-align: middle;\n",
              "    }\n",
              "\n",
              "    .dataframe tbody tr th {\n",
              "        vertical-align: top;\n",
              "    }\n",
              "\n",
              "    .dataframe thead th {\n",
              "        text-align: right;\n",
              "    }\n",
              "</style>\n",
              "<table border=\"1\" class=\"dataframe\">\n",
              "  <thead>\n",
              "    <tr style=\"text-align: right;\">\n",
              "      <th></th>\n",
              "      <th>user_id</th>\n",
              "      <th>days_since_last_order</th>\n",
              "      <th>count_orders</th>\n",
              "      <th>average_spend</th>\n",
              "    </tr>\n",
              "  </thead>\n",
              "  <tbody>\n",
              "    <tr>\n",
              "      <th>0</th>\n",
              "      <td>50271</td>\n",
              "      <td>630</td>\n",
              "      <td>1</td>\n",
              "      <td>45.0</td>\n",
              "    </tr>\n",
              "    <tr>\n",
              "      <th>1</th>\n",
              "      <td>22784</td>\n",
              "      <td>587</td>\n",
              "      <td>8</td>\n",
              "      <td>55.9575</td>\n",
              "    </tr>\n",
              "    <tr>\n",
              "      <th>2</th>\n",
              "      <td>63781</td>\n",
              "      <td>777</td>\n",
              "      <td>3</td>\n",
              "      <td>30.316667</td>\n",
              "    </tr>\n",
              "    <tr>\n",
              "      <th>3</th>\n",
              "      <td>23355</td>\n",
              "      <td>579</td>\n",
              "      <td>1</td>\n",
              "      <td>20.0</td>\n",
              "    </tr>\n",
              "    <tr>\n",
              "      <th>4</th>\n",
              "      <td>81439</td>\n",
              "      <td>832</td>\n",
              "      <td>1</td>\n",
              "      <td>69.949997</td>\n",
              "    </tr>\n",
              "    <tr>\n",
              "      <th>5</th>\n",
              "      <td>43600</td>\n",
              "      <td>735</td>\n",
              "      <td>1</td>\n",
              "      <td>9.79</td>\n",
              "    </tr>\n",
              "    <tr>\n",
              "      <th>6</th>\n",
              "      <td>11186</td>\n",
              "      <td>657</td>\n",
              "      <td>1</td>\n",
              "      <td>197.5</td>\n",
              "    </tr>\n",
              "    <tr>\n",
              "      <th>7</th>\n",
              "      <td>44300</td>\n",
              "      <td>728</td>\n",
              "      <td>1</td>\n",
              "      <td>35.959999</td>\n",
              "    </tr>\n",
              "    <tr>\n",
              "      <th>8</th>\n",
              "      <td>38671</td>\n",
              "      <td>521</td>\n",
              "      <td>1</td>\n",
              "      <td>19.99</td>\n",
              "    </tr>\n",
              "    <tr>\n",
              "      <th>9</th>\n",
              "      <td>12229</td>\n",
              "      <td>753</td>\n",
              "      <td>1</td>\n",
              "      <td>40.0</td>\n",
              "    </tr>\n",
              "  </tbody>\n",
              "</table>\n",
              "<p>10 rows × 4 columns</p>\n",
              "</div>[10 rows x 4 columns in total]"
            ],
            "text/plain": [
              "   user_id  days_since_last_order  count_orders  average_spend\n",
              "0    50271                    630             1           45.0\n",
              "1    22784                    587             8        55.9575\n",
              "2    63781                    777             3      30.316667\n",
              "3    23355                    579             1           20.0\n",
              "4    81439                    832             1      69.949997\n",
              "5    43600                    735             1           9.79\n",
              "6    11186                    657             1          197.5\n",
              "7    44300                    728             1      35.959999\n",
              "8    38671                    521             1          19.99\n",
              "9    12229                    753             1           40.0\n",
              "\n",
              "[10 rows x 4 columns]"
            ]
          },
          "execution_count": 5,
          "metadata": {},
          "output_type": "execute_result"
        }
      ],
      "source": [
        "# prompt: Convert the table ecommerce.customer_stats to a BigQuery DataFrames dataframe and show the top 10 records\n",
        "\n",
        "df = bpd.read_gbq(f\"{project_id}.{dataset_name}.{table_name}\")\n",
        "df.head(10)"
      ]
    },
    {
      "cell_type": "code",
      "execution_count": 7,
      "metadata": {
        "colab": {
          "base_uri": "https://localhost:8080/",
          "height": 86
        },
        "executionInfo": {
          "elapsed": 68610,
          "status": "ok",
          "timestamp": 1716021413289,
          "user": {
            "displayName": "",
            "userId": ""
          },
          "user_tz": -480
        },
        "id": "0-lEkTCI1hET",
        "outputId": "2f91babc-5ac6-46c1-b342-e7df58fcd3af"
      },
      "outputs": [
        {
          "data": {
            "text/html": [
              "Query job 8c7447cf-794a-47d4-83d1-41755d7738a8 is DONE. 662.5 kB processed. <a target=\"_blank\" href=\"https://console.cloud.google.com/bigquery?project=qwiklabs-gcp-02-04df2a73f7b5&j=bq:US:8c7447cf-794a-47d4-83d1-41755d7738a8&page=queryresults\">Open Job</a>"
            ],
            "text/plain": [
              "<IPython.core.display.HTML object>"
            ]
          },
          "metadata": {},
          "output_type": "display_data"
        },
        {
          "data": {
            "text/html": [
              "Query job 7a2ca53e-ea41-485b-9608-6706ea717478 is DONE. 0 Bytes processed. <a target=\"_blank\" href=\"https://console.cloud.google.com/bigquery?project=qwiklabs-gcp-02-04df2a73f7b5&j=bq:US:7a2ca53e-ea41-485b-9608-6706ea717478&page=queryresults\">Open Job</a>"
            ],
            "text/plain": [
              "<IPython.core.display.HTML object>"
            ]
          },
          "metadata": {},
          "output_type": "display_data"
        },
        {
          "data": {
            "text/html": [
              "Copy job b1474051-4a8e-46af-8c23-1aa315ae7024 is DONE. <a target=\"_blank\" href=\"https://console.cloud.google.com/bigquery?project=qwiklabs-gcp-02-04df2a73f7b5&j=bq:US:b1474051-4a8e-46af-8c23-1aa315ae7024&page=queryresults\">Open Job</a>"
            ],
            "text/plain": [
              "<IPython.core.display.HTML object>"
            ]
          },
          "metadata": {},
          "output_type": "display_data"
        },
        {
          "data": {
            "text/plain": [
              "KMeans(distance_type='EUCLIDEAN', init='KMEANS_PLUS_PLUS', n_clusters=5)"
            ]
          },
          "execution_count": 7,
          "metadata": {},
          "output_type": "execute_result"
        }
      ],
      "source": [
        "# prompt: 1. Split df into test and training data for a K-means clustering algorithm store these as df_test_ and df_train. 2. Create a K-means cluster model using bigframes.ml.cluster KMeans with 5 clusters. 3. Save the model to BigQuery in a model called ecommerce.model_name using the to_gbq method.\n",
        "\n",
        "df_train, df_test = train_test_split(df, test_size=0.2, random_state=42)\n",
        "model = KMeans(n_clusters=5)\n",
        "model.fit(df_train)\n",
        "model.to_gbq(f\"{project_id}.{dataset_name}.{model_name}\")"
      ]
    },
    {
      "cell_type": "code",
      "execution_count": 8,
      "metadata": {
        "colab": {
          "base_uri": "https://localhost:8080/",
          "height": 496
        },
        "executionInfo": {
          "elapsed": 12846,
          "status": "ok",
          "timestamp": 1716021591278,
          "user": {
            "displayName": "",
            "userId": ""
          },
          "user_tz": -480
        },
        "id": "wwD8Fe012uEv",
        "outputId": "acc31f09-9e62-48bd-f292-bae6b982b4e1"
      },
      "outputs": [
        {
          "data": {
            "text/html": [
              "Query job 33e93a28-7d46-4e8b-8995-c4cd2705692f is DONE. 662.7 kB processed. <a target=\"_blank\" href=\"https://console.cloud.google.com/bigquery?project=qwiklabs-gcp-02-04df2a73f7b5&j=bq:US:33e93a28-7d46-4e8b-8995-c4cd2705692f&page=queryresults\">Open Job</a>"
            ],
            "text/plain": [
              "<IPython.core.display.HTML object>"
            ]
          },
          "metadata": {},
          "output_type": "display_data"
        },
        {
          "data": {
            "text/html": [
              "Query job 637e1173-394f-4988-83a3-08829f8a9434 is DONE. 165.6 kB processed. <a target=\"_blank\" href=\"https://console.cloud.google.com/bigquery?project=qwiklabs-gcp-02-04df2a73f7b5&j=bq:US:637e1173-394f-4988-83a3-08829f8a9434&page=queryresults\">Open Job</a>"
            ],
            "text/plain": [
              "<IPython.core.display.HTML object>"
            ]
          },
          "metadata": {},
          "output_type": "display_data"
        },
        {
          "data": {
            "text/html": [
              "Query job 1377ec95-cf57-4f66-8f5a-e255e4a282d6 is DONE. 2.6 MB processed. <a target=\"_blank\" href=\"https://console.cloud.google.com/bigquery?project=qwiklabs-gcp-02-04df2a73f7b5&j=bq:US:1377ec95-cf57-4f66-8f5a-e255e4a282d6&page=queryresults\">Open Job</a>"
            ],
            "text/plain": [
              "<IPython.core.display.HTML object>"
            ]
          },
          "metadata": {},
          "output_type": "display_data"
        },
        {
          "data": {
            "text/html": [
              "Query job 414ee0be-7bd9-455e-ac5f-670a8550a70a is DONE. 0 Bytes processed. <a target=\"_blank\" href=\"https://console.cloud.google.com/bigquery?project=qwiklabs-gcp-02-04df2a73f7b5&j=bq:US:414ee0be-7bd9-455e-ac5f-670a8550a70a&page=queryresults\">Open Job</a>"
            ],
            "text/plain": [
              "<IPython.core.display.HTML object>"
            ]
          },
          "metadata": {},
          "output_type": "display_data"
        },
        {
          "data": {
            "text/html": [
              "Query job a07fab17-3a98-4b9f-be2f-0f90f10a61f3 is DONE. 1.4 kB processed. <a target=\"_blank\" href=\"https://console.cloud.google.com/bigquery?project=qwiklabs-gcp-02-04df2a73f7b5&j=bq:US:a07fab17-3a98-4b9f-be2f-0f90f10a61f3&page=queryresults\">Open Job</a>"
            ],
            "text/plain": [
              "<IPython.core.display.HTML object>"
            ]
          },
          "metadata": {},
          "output_type": "display_data"
        },
        {
          "data": {
            "text/html": [
              "<div>\n",
              "<style scoped>\n",
              "    .dataframe tbody tr th:only-of-type {\n",
              "        vertical-align: middle;\n",
              "    }\n",
              "\n",
              "    .dataframe tbody tr th {\n",
              "        vertical-align: top;\n",
              "    }\n",
              "\n",
              "    .dataframe thead th {\n",
              "        text-align: right;\n",
              "    }\n",
              "</style>\n",
              "<table border=\"1\" class=\"dataframe\">\n",
              "  <thead>\n",
              "    <tr style=\"text-align: right;\">\n",
              "      <th></th>\n",
              "      <th>CENTROID_ID</th>\n",
              "      <th>NEAREST_CENTROIDS_DISTANCE</th>\n",
              "      <th>user_id</th>\n",
              "      <th>days_since_last_order</th>\n",
              "      <th>count_orders</th>\n",
              "      <th>average_spend</th>\n",
              "    </tr>\n",
              "  </thead>\n",
              "  <tbody>\n",
              "    <tr>\n",
              "      <th>0</th>\n",
              "      <td>2</td>\n",
              "      <td>[{'CENTROID_ID': 2, 'DISTANCE': 1.224800053794...</td>\n",
              "      <td>50271</td>\n",
              "      <td>630</td>\n",
              "      <td>1</td>\n",
              "      <td>45.0</td>\n",
              "    </tr>\n",
              "    <tr>\n",
              "      <th>1</th>\n",
              "      <td>2</td>\n",
              "      <td>[{'CENTROID_ID': 2, 'DISTANCE': 5.926043153312...</td>\n",
              "      <td>22784</td>\n",
              "      <td>587</td>\n",
              "      <td>8</td>\n",
              "      <td>55.9575</td>\n",
              "    </tr>\n",
              "    <tr>\n",
              "      <th>2</th>\n",
              "      <td>5</td>\n",
              "      <td>[{'CENTROID_ID': 5, 'DISTANCE': 1.585657854275...</td>\n",
              "      <td>63781</td>\n",
              "      <td>777</td>\n",
              "      <td>3</td>\n",
              "      <td>30.316667</td>\n",
              "    </tr>\n",
              "    <tr>\n",
              "      <th>3</th>\n",
              "      <td>4</td>\n",
              "      <td>[{'CENTROID_ID': 4, 'DISTANCE': 1.161260152053...</td>\n",
              "      <td>23355</td>\n",
              "      <td>579</td>\n",
              "      <td>1</td>\n",
              "      <td>20.0</td>\n",
              "    </tr>\n",
              "    <tr>\n",
              "      <th>4</th>\n",
              "      <td>5</td>\n",
              "      <td>[{'CENTROID_ID': 5, 'DISTANCE': 0.874181494580...</td>\n",
              "      <td>81439</td>\n",
              "      <td>832</td>\n",
              "      <td>1</td>\n",
              "      <td>69.949997</td>\n",
              "    </tr>\n",
              "    <tr>\n",
              "      <th>5</th>\n",
              "      <td>5</td>\n",
              "      <td>[{'CENTROID_ID': 5, 'DISTANCE': 1.222483266044...</td>\n",
              "      <td>43600</td>\n",
              "      <td>735</td>\n",
              "      <td>1</td>\n",
              "      <td>9.79</td>\n",
              "    </tr>\n",
              "    <tr>\n",
              "      <th>6</th>\n",
              "      <td>3</td>\n",
              "      <td>[{'CENTROID_ID': 3, 'DISTANCE': 1.280361074981...</td>\n",
              "      <td>11186</td>\n",
              "      <td>657</td>\n",
              "      <td>1</td>\n",
              "      <td>197.5</td>\n",
              "    </tr>\n",
              "    <tr>\n",
              "      <th>7</th>\n",
              "      <td>5</td>\n",
              "      <td>[{'CENTROID_ID': 5, 'DISTANCE': 1.059108751811...</td>\n",
              "      <td>44300</td>\n",
              "      <td>728</td>\n",
              "      <td>1</td>\n",
              "      <td>35.959999</td>\n",
              "    </tr>\n",
              "    <tr>\n",
              "      <th>8</th>\n",
              "      <td>2</td>\n",
              "      <td>[{'CENTROID_ID': 2, 'DISTANCE': 1.555627441487...</td>\n",
              "      <td>38671</td>\n",
              "      <td>521</td>\n",
              "      <td>1</td>\n",
              "      <td>19.99</td>\n",
              "    </tr>\n",
              "    <tr>\n",
              "      <th>9</th>\n",
              "      <td>4</td>\n",
              "      <td>[{'CENTROID_ID': 4, 'DISTANCE': 0.999441160859...</td>\n",
              "      <td>12229</td>\n",
              "      <td>753</td>\n",
              "      <td>1</td>\n",
              "      <td>40.0</td>\n",
              "    </tr>\n",
              "  </tbody>\n",
              "</table>\n",
              "<p>10 rows × 6 columns</p>\n",
              "</div>[10 rows x 6 columns in total]"
            ],
            "text/plain": [
              "   CENTROID_ID                         NEAREST_CENTROIDS_DISTANCE  user_id  \\\n",
              "0            2  [{'CENTROID_ID': 2, 'DISTANCE': 1.224800053794...    50271   \n",
              "1            2  [{'CENTROID_ID': 2, 'DISTANCE': 5.926043153312...    22784   \n",
              "2            5  [{'CENTROID_ID': 5, 'DISTANCE': 1.585657854275...    63781   \n",
              "3            4  [{'CENTROID_ID': 4, 'DISTANCE': 1.161260152053...    23355   \n",
              "4            5  [{'CENTROID_ID': 5, 'DISTANCE': 0.874181494580...    81439   \n",
              "5            5  [{'CENTROID_ID': 5, 'DISTANCE': 1.222483266044...    43600   \n",
              "6            3  [{'CENTROID_ID': 3, 'DISTANCE': 1.280361074981...    11186   \n",
              "7            5  [{'CENTROID_ID': 5, 'DISTANCE': 1.059108751811...    44300   \n",
              "8            2  [{'CENTROID_ID': 2, 'DISTANCE': 1.555627441487...    38671   \n",
              "9            4  [{'CENTROID_ID': 4, 'DISTANCE': 0.999441160859...    12229   \n",
              "\n",
              "   days_since_last_order  count_orders  average_spend  \n",
              "0                    630             1           45.0  \n",
              "1                    587             8        55.9575  \n",
              "2                    777             3      30.316667  \n",
              "3                    579             1           20.0  \n",
              "4                    832             1      69.949997  \n",
              "5                    735             1           9.79  \n",
              "6                    657             1          197.5  \n",
              "7                    728             1      35.959999  \n",
              "8                    521             1          19.99  \n",
              "9                    753             1           40.0  \n",
              "\n",
              "[10 rows x 6 columns]"
            ]
          },
          "execution_count": 8,
          "metadata": {},
          "output_type": "execute_result"
        }
      ],
      "source": [
        "# prompt: 1. Call the K-means prediction model on the df dataframe, and store the results as predictions_df and show the first 10 records.\n",
        "\n",
        "predictions_df = model.predict(df)\n",
        "predictions_df.head(10)"
      ]
    },
    {
      "cell_type": "code",
      "execution_count": 14,
      "metadata": {
        "colab": {
          "base_uri": "https://localhost:8080/",
          "height": 854
        },
        "executionInfo": {
          "elapsed": 283736,
          "status": "ok",
          "timestamp": 1716022544271,
          "user": {
            "displayName": "",
            "userId": ""
          },
          "user_tz": -480
        },
        "id": "KCcvBz_c3Eo4",
        "outputId": "b3739a49-cf0a-4b9f-db4e-0c110d6e1707"
      },
      "outputs": [
        {
          "data": {
            "text/html": [
              "Query job c5792ced-3fcf-4ecf-93fd-a89bfe64e725 is DONE. 0 Bytes processed. <a target=\"_blank\" href=\"https://console.cloud.google.com/bigquery?project=qwiklabs-gcp-02-04df2a73f7b5&j=bq:US:c5792ced-3fcf-4ecf-93fd-a89bfe64e725&page=queryresults\">Open Job</a>"
            ],
            "text/plain": [
              "<IPython.core.display.HTML object>"
            ]
          },
          "metadata": {},
          "output_type": "display_data"
        },
        {
          "data": {
            "text/html": [
              "Query job 27800a93-8d82-46a5-b673-97511905e0a3 is DONE. 0 Bytes processed. <a target=\"_blank\" href=\"https://console.cloud.google.com/bigquery?project=qwiklabs-gcp-02-04df2a73f7b5&j=bq:US:27800a93-8d82-46a5-b673-97511905e0a3&page=queryresults\">Open Job</a>"
            ],
            "text/plain": [
              "<IPython.core.display.HTML object>"
            ]
          },
          "metadata": {},
          "output_type": "display_data"
        },
        {
          "data": {
            "text/html": [
              "Query job 759125ab-e563-4ac0-88ef-be2cc08063e7 is DONE. 0 Bytes processed. <a target=\"_blank\" href=\"https://console.cloud.google.com/bigquery?project=qwiklabs-gcp-02-04df2a73f7b5&j=bq:US:759125ab-e563-4ac0-88ef-be2cc08063e7&page=queryresults\">Open Job</a>"
            ],
            "text/plain": [
              "<IPython.core.display.HTML object>"
            ]
          },
          "metadata": {},
          "output_type": "display_data"
        },
        {
          "data": {
            "text/html": [
              "Query job e278efc6-84c6-41be-9390-120af233e27d is DONE. 0 Bytes processed. <a target=\"_blank\" href=\"https://console.cloud.google.com/bigquery?project=qwiklabs-gcp-02-04df2a73f7b5&j=bq:US:e278efc6-84c6-41be-9390-120af233e27d&page=queryresults\">Open Job</a>"
            ],
            "text/plain": [
              "<IPython.core.display.HTML object>"
            ]
          },
          "metadata": {},
          "output_type": "display_data"
        },
        {
          "name": "stderr",
          "output_type": "stream",
          "text": [
            "Exception ignored in: <generator object RowIterator._to_page_iterable at 0x7d05b038b220>\n",
            "Traceback (most recent call last):\n",
            "  File \"/usr/local/lib/python3.10/dist-packages/google/cloud/bigquery/table.py\", line 1789, in _to_page_iterable\n",
            "    yield from result_pages\n",
            "  File \"/usr/local/lib/python3.10/dist-packages/google/cloud/bigquery/_pandas_helpers.py\", line 907, in _download_table_bqstorage\n",
            "    pool.shutdown(wait=True)\n",
            "  File \"/usr/lib/python3.10/concurrent/futures/thread.py\", line 235, in shutdown\n",
            "    t.join()\n",
            "  File \"/usr/lib/python3.10/threading.py\", line 1096, in join\n",
            "    self._wait_for_tstate_lock()\n",
            "  File \"/usr/lib/python3.10/threading.py\", line 1116, in _wait_for_tstate_lock\n",
            "    if lock.acquire(block, timeout):\n",
            "KeyboardInterrupt: \n"
          ]
        },
        {
          "data": {
            "text/html": [
              "Query job dee82e93-fbad-47d8-b1bf-0b40856e5fbc is DONE. 0 Bytes processed. <a target=\"_blank\" href=\"https://console.cloud.google.com/bigquery?project=qwiklabs-gcp-02-04df2a73f7b5&j=bq:US:dee82e93-fbad-47d8-b1bf-0b40856e5fbc&page=queryresults\">Open Job</a>"
            ],
            "text/plain": [
              "<IPython.core.display.HTML object>"
            ]
          },
          "metadata": {},
          "output_type": "display_data"
        },
        {
          "data": {
            "text/html": [
              "Query job 9f7b36fb-da2c-4e8f-a044-a2ee4edafb76 is DONE. 0 Bytes processed. <a target=\"_blank\" href=\"https://console.cloud.google.com/bigquery?project=qwiklabs-gcp-02-04df2a73f7b5&j=bq:US:9f7b36fb-da2c-4e8f-a044-a2ee4edafb76&page=queryresults\">Open Job</a>"
            ],
            "text/plain": [
              "<IPython.core.display.HTML object>"
            ]
          },
          "metadata": {},
          "output_type": "display_data"
        },
        {
          "data": {
            "text/html": [
              "Query job 1cd20a65-1447-4f73-a275-c78c4eca0458 is DONE. 0 Bytes processed. <a target=\"_blank\" href=\"https://console.cloud.google.com/bigquery?project=qwiklabs-gcp-02-04df2a73f7b5&j=bq:US:1cd20a65-1447-4f73-a275-c78c4eca0458&page=queryresults\">Open Job</a>"
            ],
            "text/plain": [
              "<IPython.core.display.HTML object>"
            ]
          },
          "metadata": {},
          "output_type": "display_data"
        },
        {
          "data": {
            "text/html": [
              "Query job 451f34a8-bfef-4117-8122-0d1aad9bd071 is DONE. 0 Bytes processed. <a target=\"_blank\" href=\"https://console.cloud.google.com/bigquery?project=qwiklabs-gcp-02-04df2a73f7b5&j=bq:US:451f34a8-bfef-4117-8122-0d1aad9bd071&page=queryresults\">Open Job</a>"
            ],
            "text/plain": [
              "<IPython.core.display.HTML object>"
            ]
          },
          "metadata": {},
          "output_type": "display_data"
        },
        {
          "data": {
            "text/html": [
              "Query job e88a4ec8-7e0b-4fff-94a9-b15458d07e3b is DONE. 0 Bytes processed. <a target=\"_blank\" href=\"https://console.cloud.google.com/bigquery?project=qwiklabs-gcp-02-04df2a73f7b5&j=bq:US:e88a4ec8-7e0b-4fff-94a9-b15458d07e3b&page=queryresults\">Open Job</a>"
            ],
            "text/plain": [
              "<IPython.core.display.HTML object>"
            ]
          },
          "metadata": {},
          "output_type": "display_data"
        },
        {
          "data": {
            "image/png": "[encoded data removed]",
            "text/plain": [
              "<Figure size 640x480 with 1 Axes>"
            ]
          },
          "metadata": {},
          "output_type": "display_data"
        }
      ],
      "source": [
        "# prompt: 1. Using predictions_df, and matplotlib, generate a scatterplot. 2. On the x-axis of the scatterplot, display days_since_last_order and on the y-axis, display average_spend from predictions_df. 3. Color by cluster. The chart should be titled \"Attribute grouped by K-means cluster.\n",
        "\n",
        "import matplotlib.pyplot as plt\n",
        "\n",
        "plt.scatter(predictions_df['days_since_last_order'], predictions_df['average_spend'], c=predictions_df['CENTROID_ID'])\n",
        "plt.xlabel(\"days_since_last_order\")\n",
        "plt.ylabel(\"average_spend\")\n",
        "plt.title(\"Attribute grouped by K-means Cluster\")\n",
        "plt.show()"
      ]
    },
    {
      "cell_type": "code",
      "execution_count": 15,
      "metadata": {
        "colab": {
          "base_uri": "https://localhost:8080/",
          "height": 206
        },
        "executionInfo": {
          "elapsed": 3203,
          "status": "ok",
          "timestamp": 1716022590042,
          "user": {
            "displayName": "",
            "userId": ""
          },
          "user_tz": -480
        },
        "id": "BU7BWEEV6mir",
        "outputId": "b4fc36a9-c4d3-43e9-bd5e-548a6500cc39"
      },
      "outputs": [
        {
          "data": {
            "text/html": [
              "\n",
              "  <div id=\"df-b44bb706-9df0-4d1f-ad9b-d6bcaba24462\" class=\"colab-df-container\">\n",
              "    <div>\n",
              "<style scoped>\n",
              "    .dataframe tbody tr th:only-of-type {\n",
              "        vertical-align: middle;\n",
              "    }\n",
              "\n",
              "    .dataframe tbody tr th {\n",
              "        vertical-align: top;\n",
              "    }\n",
              "\n",
              "    .dataframe thead th {\n",
              "        text-align: right;\n",
              "    }\n",
              "</style>\n",
              "<table border=\"1\" class=\"dataframe\">\n",
              "  <thead>\n",
              "    <tr style=\"text-align: right;\">\n",
              "      <th></th>\n",
              "      <th>centroid</th>\n",
              "      <th>average_spend</th>\n",
              "      <th>count_orders</th>\n",
              "      <th>days_since_last_order</th>\n",
              "    </tr>\n",
              "  </thead>\n",
              "  <tbody>\n",
              "    <tr>\n",
              "      <th>0</th>\n",
              "      <td>cluster 1</td>\n",
              "      <td>753.19</td>\n",
              "      <td>1.06</td>\n",
              "      <td>658.29</td>\n",
              "    </tr>\n",
              "    <tr>\n",
              "      <th>1</th>\n",
              "      <td>cluster 2</td>\n",
              "      <td>48.36</td>\n",
              "      <td>2.01</td>\n",
              "      <td>579.19</td>\n",
              "    </tr>\n",
              "    <tr>\n",
              "      <th>2</th>\n",
              "      <td>cluster 3</td>\n",
              "      <td>191.76</td>\n",
              "      <td>1.31</td>\n",
              "      <td>640.11</td>\n",
              "    </tr>\n",
              "    <tr>\n",
              "      <th>3</th>\n",
              "      <td>cluster 4</td>\n",
              "      <td>46.69</td>\n",
              "      <td>1.59</td>\n",
              "      <td>672.12</td>\n",
              "    </tr>\n",
              "    <tr>\n",
              "      <th>4</th>\n",
              "      <td>cluster 5</td>\n",
              "      <td>48.33</td>\n",
              "      <td>1.39</td>\n",
              "      <td>773.16</td>\n",
              "    </tr>\n",
              "  </tbody>\n",
              "</table>\n",
              "</div>\n",
              "    <div class=\"colab-df-buttons\">\n",
              "\n",
              "  <div class=\"colab-df-container\">\n",
              "    <button class=\"colab-df-convert\" onclick=\"convertToInteractive('df-b44bb706-9df0-4d1f-ad9b-d6bcaba24462')\"\n",
              "            title=\"Convert this dataframe to an interactive table.\"\n",
              "            style=\"display:none;\">\n",
              "\n",
              "  <svg xmlns=\"http://www.w3.org/2000/svg\" height=\"24px\" viewBox=\"0 -960 960 960\">\n",
              "    <path d=\"M120-120v-720h720v720H120Zm60-500h600v-160H180v160Zm220 220h160v-160H400v160Zm0 220h160v-160H400v160ZM180-400h160v-160H180v160Zm440 0h160v-160H620v160ZM180-180h160v-160H180v160Zm440 0h160v-160H620v160Z\"/>\n",
              "  </svg>\n",
              "    </button>\n",
              "\n",
              "  <style>\n",
              "    .colab-df-container {\n",
              "      display:flex;\n",
              "      gap: 12px;\n",
              "    }\n",
              "\n",
              "    .colab-df-convert {\n",
              "      background-color: #E8F0FE;\n",
              "      border: none;\n",
              "      border-radius: 50%;\n",
              "      cursor: pointer;\n",
              "      display: none;\n",
              "      fill: #1967D2;\n",
              "      height: 32px;\n",
              "      padding: 0 0 0 0;\n",
              "      width: 32px;\n",
              "    }\n",
              "\n",
              "    .colab-df-convert:hover {\n",
              "      background-color: #E2EBFA;\n",
              "      box-shadow: 0px 1px 2px rgba(60, 64, 67, 0.3), 0px 1px 3px 1px rgba(60, 64, 67, 0.15);\n",
              "      fill: #174EA6;\n",
              "    }\n",
              "\n",
              "    .colab-df-buttons div {\n",
              "      margin-bottom: 4px;\n",
              "    }\n",
              "\n",
              "    [theme=dark] .colab-df-convert {\n",
              "      background-color: #3B4455;\n",
              "      fill: #D2E3FC;\n",
              "    }\n",
              "\n",
              "    [theme=dark] .colab-df-convert:hover {\n",
              "      background-color: #434B5C;\n",
              "      box-shadow: 0px 1px 3px 1px rgba(0, 0, 0, 0.15);\n",
              "      filter: drop-shadow(0px 1px 2px rgba(0, 0, 0, 0.3));\n",
              "      fill: #FFFFFF;\n",
              "    }\n",
              "  </style>\n",
              "\n",
              "    <script>\n",
              "      const buttonEl =\n",
              "        document.querySelector('#df-b44bb706-9df0-4d1f-ad9b-d6bcaba24462 button.colab-df-convert');\n",
              "      buttonEl.style.display =\n",
              "        google.colab.kernel.accessAllowed ? 'block' : 'none';\n",
              "\n",
              "      async function convertToInteractive(key) {\n",
              "        const element = document.querySelector('#df-b44bb706-9df0-4d1f-ad9b-d6bcaba24462');\n",
              "        const dataTable =\n",
              "          await google.colab.kernel.invokeFunction('convertToInteractive',\n",
              "                                                    [key], {});\n",
              "        if (!dataTable) return;\n",
              "\n",
              "        const docLinkHtml = 'Like what you see? Visit the ' +\n",
              "          '<a target=\"_blank\" href=https://colab.research.google.com/notebooks/data_table.ipynb>data table notebook</a>'\n",
              "          + ' to learn more about interactive tables.';\n",
              "        element.innerHTML = '';\n",
              "        dataTable['output_type'] = 'display_data';\n",
              "        await google.colab.output.renderOutput(dataTable, element);\n",
              "        const docLink = document.createElement('div');\n",
              "        docLink.innerHTML = docLinkHtml;\n",
              "        element.appendChild(docLink);\n",
              "      }\n",
              "    </script>\n",
              "  </div>\n",
              "\n",
              "\n",
              "<div id=\"df-16c87608-ce6a-4709-9394-2cd29f275202\">\n",
              "  <button class=\"colab-df-quickchart\" onclick=\"quickchart('df-16c87608-ce6a-4709-9394-2cd29f275202')\"\n",
              "            title=\"Suggest charts\"\n",
              "            style=\"display:none;\">\n",
              "\n",
              "<svg xmlns=\"http://www.w3.org/2000/svg\" height=\"24px\"viewBox=\"0 0 24 24\"\n",
              "     width=\"24px\">\n",
              "    <g>\n",
              "        <path d=\"M19 3H5c-1.1 0-2 .9-2 2v14c0 1.1.9 2 2 2h14c1.1 0 2-.9 2-2V5c0-1.1-.9-2-2-2zM9 17H7v-7h2v7zm4 0h-2V7h2v10zm4 0h-2v-4h2v4z\"/>\n",
              "    </g>\n",
              "</svg>\n",
              "  </button>\n",
              "\n",
              "<style>\n",
              "  .colab-df-quickchart {\n",
              "      --bg-color: #E8F0FE;\n",
              "      --fill-color: #1967D2;\n",
              "      --hover-bg-color: #E2EBFA;\n",
              "      --hover-fill-color: #174EA6;\n",
              "      --disabled-fill-color: #AAA;\n",
              "      --disabled-bg-color: #DDD;\n",
              "  }\n",
              "\n",
              "  [theme=dark] .colab-df-quickchart {\n",
              "      --bg-color: #3B4455;\n",
              "      --fill-color: #D2E3FC;\n",
              "      --hover-bg-color: #434B5C;\n",
              "      --hover-fill-color: #FFFFFF;\n",
              "      --disabled-bg-color: #3B4455;\n",
              "      --disabled-fill-color: #666;\n",
              "  }\n",
              "\n",
              "  .colab-df-quickchart {\n",
              "    background-color: var(--bg-color);\n",
              "    border: none;\n",
              "    border-radius: 50%;\n",
              "    cursor: pointer;\n",
              "    display: none;\n",
              "    fill: var(--fill-color);\n",
              "    height: 32px;\n",
              "    padding: 0;\n",
              "    width: 32px;\n",
              "  }\n",
              "\n",
              "  .colab-df-quickchart:hover {\n",
              "    background-color: var(--hover-bg-color);\n",
              "    box-shadow: 0 1px 2px rgba(60, 64, 67, 0.3), 0 1px 3px 1px rgba(60, 64, 67, 0.15);\n",
              "    fill: var(--button-hover-fill-color);\n",
              "  }\n",
              "\n",
              "  .colab-df-quickchart-complete:disabled,\n",
              "  .colab-df-quickchart-complete:disabled:hover {\n",
              "    background-color: var(--disabled-bg-color);\n",
              "    fill: var(--disabled-fill-color);\n",
              "    box-shadow: none;\n",
              "  }\n",
              "\n",
              "  .colab-df-spinner {\n",
              "    border: 2px solid var(--fill-color);\n",
              "    border-color: transparent;\n",
              "    border-bottom-color: var(--fill-color);\n",
              "    animation:\n",
              "      spin 1s steps(1) infinite;\n",
              "  }\n",
              "\n",
              "  @keyframes spin {\n",
              "    0% {\n",
              "      border-color: transparent;\n",
              "      border-bottom-color: var(--fill-color);\n",
              "      border-left-color: var(--fill-color);\n",
              "    }\n",
              "    20% {\n",
              "      border-color: transparent;\n",
              "      border-left-color: var(--fill-color);\n",
              "      border-top-color: var(--fill-color);\n",
              "    }\n",
              "    30% {\n",
              "      border-color: transparent;\n",
              "      border-left-color: var(--fill-color);\n",
              "      border-top-color: var(--fill-color);\n",
              "      border-right-color: var(--fill-color);\n",
              "    }\n",
              "    40% {\n",
              "      border-color: transparent;\n",
              "      border-right-color: var(--fill-color);\n",
              "      border-top-color: var(--fill-color);\n",
              "    }\n",
              "    60% {\n",
              "      border-color: transparent;\n",
              "      border-right-color: var(--fill-color);\n",
              "    }\n",
              "    80% {\n",
              "      border-color: transparent;\n",
              "      border-right-color: var(--fill-color);\n",
              "      border-bottom-color: var(--fill-color);\n",
              "    }\n",
              "    90% {\n",
              "      border-color: transparent;\n",
              "      border-bottom-color: var(--fill-color);\n",
              "    }\n",
              "  }\n",
              "</style>\n",
              "\n",
              "  <script>\n",
              "    async function quickchart(key) {\n",
              "      const quickchartButtonEl =\n",
              "        document.querySelector('#' + key + ' button');\n",
              "      quickchartButtonEl.disabled = true;  // To prevent multiple clicks.\n",
              "      quickchartButtonEl.classList.add('colab-df-spinner');\n",
              "      try {\n",
              "        const charts = await google.colab.kernel.invokeFunction(\n",
              "            'suggestCharts', [key], {});\n",
              "      } catch (error) {\n",
              "        console.error('Error during call to suggestCharts:', error);\n",
              "      }\n",
              "      quickchartButtonEl.classList.remove('colab-df-spinner');\n",
              "      quickchartButtonEl.classList.add('colab-df-quickchart-complete');\n",
              "    }\n",
              "    (() => {\n",
              "      let quickchartButtonEl =\n",
              "        document.querySelector('#df-16c87608-ce6a-4709-9394-2cd29f275202 button');\n",
              "      quickchartButtonEl.style.display =\n",
              "        google.colab.kernel.accessAllowed ? 'block' : 'none';\n",
              "    })();\n",
              "  </script>\n",
              "</div>\n",
              "    </div>\n",
              "  </div>\n"
            ],
            "text/plain": [
              "    centroid  average_spend  count_orders  days_since_last_order\n",
              "0  cluster 1         753.19          1.06                 658.29\n",
              "1  cluster 2          48.36          2.01                 579.19\n",
              "2  cluster 3         191.76          1.31                 640.11\n",
              "3  cluster 4          46.69          1.59                 672.12\n",
              "4  cluster 5          48.33          1.39                 773.16"
            ]
          },
          "execution_count": 15,
          "metadata": {},
          "output_type": "execute_result"
        }
      ],
      "source": [
        "query = \"\"\"\n",
        "SELECT\n",
        " CONCAT('cluster ', CAST(centroid_id as STRING)) as centroid,\n",
        " average_spend,\n",
        " count_orders,\n",
        " days_since_last_order\n",
        "FROM (\n",
        " SELECT centroid_id, feature, ROUND(numerical_value, 2) as value\n",
        " FROM ML.CENTROIDS(MODEL `{0}.{1}`)\n",
        ")\n",
        "PIVOT (\n",
        " SUM(value)\n",
        " FOR feature IN ('average_spend',  'count_orders', 'days_since_last_order')\n",
        ")\n",
        "ORDER BY centroid_id\n",
        "\"\"\".format(dataset_name, model_name)\n",
        "\n",
        "df_centroid = client.query(query).to_dataframe()\n",
        "df_centroid.head()"
      ]
    },
    {
      "cell_type": "code",
      "execution_count": 16,
      "metadata": {
        "colab": {
          "base_uri": "https://localhost:8080/"
        },
        "executionInfo": {
          "elapsed": 2683,
          "status": "ok",
          "timestamp": 1716022638515,
          "user": {
            "displayName": "",
            "userId": ""
          },
          "user_tz": -480
        },
        "id": "epjjob7660ek",
        "outputId": "467a3934-a854-41d2-a03d-5f83e8c58d12"
      },
      "outputs": [
        {
          "name": "stdout",
          "output_type": "stream",
          "text": [
            "cluster 1, average spend $753.19, count of orders per person 1.06, days since last order 658.29\n",
            "cluster 2, average spend $48.36, count of orders per person 2.01, days since last order 579.19\n",
            "cluster 3, average spend $191.76, count of orders per person 1.31, days since last order 640.11\n",
            "cluster 4, average spend $46.69, count of orders per person 1.59, days since last order 672.12\n",
            "cluster 5, average spend $48.33, count of orders per person 1.39, days since last order 773.16\n"
          ]
        }
      ],
      "source": [
        "df_query = client.query(query).to_dataframe()\n",
        "df_query.to_string(header=False, index=False)\n",
        "\n",
        "cluster_info = []\n",
        "for i, row in df_query.iterrows():\n",
        " cluster_info.append(\"{0}, average spend ${2}, count of orders per person {1}, days since last order {3}\"\n",
        "  .format(row[\"centroid\"], row[\"count_orders\"], row[\"average_spend\"], row[\"days_since_last_order\"]) )\n",
        "\n",
        "cluster_info = (str.join(\"\\n\", cluster_info))\n",
        "print(cluster_info)"
      ]
    },
    {
      "cell_type": "code",
      "execution_count": 17,
      "metadata": {
        "executionInfo": {
          "elapsed": 534,
          "status": "ok",
          "timestamp": 1716022656542,
          "user": {
            "displayName": "",
            "userId": ""
          },
          "user_tz": -480
        },
        "id": "4ZuugHjh664-"
      },
      "outputs": [],
      "source": [
        "prompt = f\"\"\"\n",
        "You're a creative brand strategist, given the following clusters, come up with \\\n",
        "creative brand persona, a catchy title, and next marketing action, \\\n",
        "explained step by step.\n",
        "\n",
        "Clusters:\n",
        "{cluster_info}\n",
        "\n",
        "For each Cluster:\n",
        "* Title:\n",
        "* Persona:\n",
        "* Next marketing step:\n",
        "\"\"\""
      ]
    },
    {
      "cell_type": "code",
      "execution_count": 25,
      "metadata": {
        "colab": {
          "base_uri": "https://localhost:8080/"
        },
        "executionInfo": {
          "elapsed": 4433,
          "status": "ok",
          "timestamp": 1716022906825,
          "user": {
            "displayName": "",
            "userId": ""
          },
          "user_tz": -480
        },
        "id": "aa1zOhTW7Fxx",
        "outputId": "1a009c1d-e135-4824-e594-a6293f170f3e"
      },
      "outputs": [
        {
          "name": "stdout",
          "output_type": "stream",
          "text": [
            " **Cluster 1: The Big Spender**\n",
            "\n",
            "* **Title:** The Loyal Luxury Seeker\n",
            "* **Persona:** These customers are high-income individuals who have a taste for the finer things in life. They're willing to spend top dollar on products and services that they believe are worth it. They're also very loyal to brands that they love and trust.\n",
            "* **Next marketing step:** Target these customers with exclusive offers and discounts. Make them feel like they're getting a special deal that's just for them. You can also try to upsell them on higher-priced products and services.\n",
            "\n",
            "**Cluster 2: The Frequent Buyer**\n",
            "\n",
            "* **Title:** The Value-Conscious Shopper\n",
            "* **Persona:** These customers are always on the lookout for a good deal. They're not afraid to comparison shop and they're always looking for ways to save money. They're also more likely to be influenced by discounts and promotions.\n",
            "* **Next marketing step:** Target these customers with flash sales and discounts. Offer them free shipping or other incentives to encourage them to make a purchase. You can also try to cross-sell them on other products and services that they might be interested in.\n",
            "\n",
            "**Cluster 3: The Occasional Indulger**\n",
            "\n",
            "* **Title:** The Selective Spender\n",
            "* **Persona:** These customers are more moderate spenders who are willing to splurge on special occasions. They're not as brand-loyal as the Big Spenders, but they're still more likely to buy from brands that they know and trust.\n",
            "* **Next marketing step:** Target these customers with seasonal promotions and offers. Remind them that it's time to treat themselves to something special. You can also try to upsell them on higher-priced products and services.\n",
            "\n",
            "**Cluster 4: The Impulsive Buyer**\n",
            "\n",
            "* **Title:** The Spontaneous Shopper\n",
            "* **Persona:** These customers are more likely to make impulse purchases. They're not as concerned with price or quality as they are with getting what they want right away. They're also more likely to be influenced by social media and peer recommendations.\n",
            "* **Next marketing step:** Target these customers with social media ads and influencer marketing. Create a sense of urgency and excitement around your products and services. You can also try to offer them limited-time discounts or offers.\n",
            "\n",
            "**Cluster 5: The Lapsed Customer**\n",
            "\n",
            "* **Title:** The Forgotten Customer\n",
            "* **Persona:** These customers have made a purchase from you in the past, but they haven't been back for a while. They may have forgotten about your brand, or they may have found a better deal somewhere else.\n",
            "* **Next marketing step:** Target these customers with win-back campaigns. Remind them of why they loved your brand in the first place. You can also offer them exclusive discounts or offers to encourage them to make a purchase.\n"
          ]
        }
      ],
      "source": [
        "# prompt: Use the Vertex AI language_models API to call the PaLM2 text-bison model and generate a marketing campaign using the variable prompt. Use the following model settings: max_output_tokens=1024, temperature=0.4\n",
        "\n",
        "model = TextGenerationModel.from_pretrained(\"text-bison\")\n",
        "response = model.predict(prompt, max_output_tokens=1024, temperature=0.4)\n",
        "print(response.text)"
      ]
    }
  ],
  "metadata": {
    "colab": {
      "cell_execution_strategy": "setup",
      "name": "Untitled notebook",
      "provenance": []
    },
    "kernelspec": {
      "display_name": "Python 3",
      "name": "python3"
    },
    "language_info": {
      "name": "python"
    },
    "widgets": {
      "application/vnd.jupyter.widget-state+json": {
        "338beb17c4e94c04bdc63f7a80ab5cf1": {
          "model_module": "@jupyter-widgets/base",
          "model_module_version": "1.2.0",
          "model_name": "LayoutModel",
          "state": {
            "_model_module": "@jupyter-widgets/base",
            "_model_module_version": "1.2.0",
            "_model_name": "LayoutModel",
            "_view_count": null,
            "_view_module": "@jupyter-widgets/base",
            "_view_module_version": "1.2.0",
            "_view_name": "LayoutView",
            "align_content": null,
            "align_items": null,
            "align_self": null,
            "border": null,
            "bottom": null,
            "display": null,
            "flex": null,
            "flex_flow": null,
            "grid_area": null,
            "grid_auto_columns": null,
            "grid_auto_flow": null,
            "grid_auto_rows": null,
            "grid_column": null,
            "grid_gap": null,
            "grid_row": null,
            "grid_template_areas": null,
            "grid_template_columns": null,
            "grid_template_rows": null,
            "height": null,
            "justify_content": null,
            "justify_items": null,
            "left": null,
            "margin": null,
            "max_height": null,
            "max_width": null,
            "min_height": null,
            "min_width": null,
            "object_fit": null,
            "object_position": null,
            "order": null,
            "overflow": null,
            "overflow_x": null,
            "overflow_y": null,
            "padding": null,
            "right": null,
            "top": null,
            "visibility": null,
            "width": null
          }
        },
        "387fdf53b701454ba6d0738a775b582e": {
          "model_module": "@jupyter-widgets/base",
          "model_module_version": "1.2.0",
          "model_name": "LayoutModel",
          "state": {
            "_model_module": "@jupyter-widgets/base",
            "_model_module_version": "1.2.0",
            "_model_name": "LayoutModel",
            "_view_count": null,
            "_view_module": "@jupyter-widgets/base",
            "_view_module_version": "1.2.0",
            "_view_name": "LayoutView",
            "align_content": null,
            "align_items": null,
            "align_self": null,
            "border": null,
            "bottom": null,
            "display": null,
            "flex": null,
            "flex_flow": null,
            "grid_area": null,
            "grid_auto_columns": null,
            "grid_auto_flow": null,
            "grid_auto_rows": null,
            "grid_column": null,
            "grid_gap": null,
            "grid_row": null,
            "grid_template_areas": null,
            "grid_template_columns": null,
            "grid_template_rows": null,
            "height": null,
            "justify_content": null,
            "justify_items": null,
            "left": null,
            "margin": null,
            "max_height": null,
            "max_width": null,
            "min_height": null,
            "min_width": null,
            "object_fit": null,
            "object_position": null,
            "order": null,
            "overflow": null,
            "overflow_x": null,
            "overflow_y": null,
            "padding": null,
            "right": null,
            "top": null,
            "visibility": null,
            "width": null
          }
        },
        "4805c45e604f411db08047228a190809": {
          "model_module": "@jupyter-widgets/controls",
          "model_module_version": "1.5.0",
          "model_name": "HTMLModel",
          "state": {
            "_dom_classes": [],
            "_model_module": "@jupyter-widgets/controls",
            "_model_module_version": "1.5.0",
            "_model_name": "HTMLModel",
            "_view_count": null,
            "_view_module": "@jupyter-widgets/controls",
            "_view_module_version": "1.5.0",
            "_view_name": "HTMLView",
            "description": "",
            "description_tooltip": null,
            "layout": "IPY_MODEL_5dfd11a90156463893809289a079505b",
            "placeholder": "​",
            "style": "IPY_MODEL_78a6de04057a4959831cecdb3366900f",
            "value": "Job ID 04214de8-7a43-4076-b7ec-6c490097f8e9 successfully executed: 100%"
          }
        },
        "5381f2c3c889489494c25c6ab8ae2859": {
          "model_module": "@jupyter-widgets/controls",
          "model_module_version": "1.5.0",
          "model_name": "HTMLModel",
          "state": {
            "_dom_classes": [],
            "_model_module": "@jupyter-widgets/controls",
            "_model_module_version": "1.5.0",
            "_model_name": "HTMLModel",
            "_view_count": null,
            "_view_module": "@jupyter-widgets/controls",
            "_view_module_version": "1.5.0",
            "_view_name": "HTMLView",
            "description": "",
            "description_tooltip": null,
            "layout": "IPY_MODEL_cf5890c54c384715873b0f76bf6ece02",
            "placeholder": "​",
            "style": "IPY_MODEL_bf8eb63256ef4e9ebcbad458655a3049",
            "value": ""
          }
        },
        "5dfd11a90156463893809289a079505b": {
          "model_module": "@jupyter-widgets/base",
          "model_module_version": "1.2.0",
          "model_name": "LayoutModel",
          "state": {
            "_model_module": "@jupyter-widgets/base",
            "_model_module_version": "1.2.0",
            "_model_name": "LayoutModel",
            "_view_count": null,
            "_view_module": "@jupyter-widgets/base",
            "_view_module_version": "1.2.0",
            "_view_name": "LayoutView",
            "align_content": null,
            "align_items": null,
            "align_self": null,
            "border": null,
            "bottom": null,
            "display": null,
            "flex": null,
            "flex_flow": null,
            "grid_area": null,
            "grid_auto_columns": null,
            "grid_auto_flow": null,
            "grid_auto_rows": null,
            "grid_column": null,
            "grid_gap": null,
            "grid_row": null,
            "grid_template_areas": null,
            "grid_template_columns": null,
            "grid_template_rows": null,
            "height": null,
            "justify_content": null,
            "justify_items": null,
            "left": null,
            "margin": null,
            "max_height": null,
            "max_width": null,
            "min_height": null,
            "min_width": null,
            "object_fit": null,
            "object_position": null,
            "order": null,
            "overflow": null,
            "overflow_x": null,
            "overflow_y": null,
            "padding": null,
            "right": null,
            "top": null,
            "visibility": null,
            "width": null
          }
        },
        "6d685895235a43758172538763528f5e": {
          "model_module": "@jupyter-widgets/controls",
          "model_module_version": "1.5.0",
          "model_name": "HBoxModel",
          "state": {
            "_dom_classes": [],
            "_model_module": "@jupyter-widgets/controls",
            "_model_module_version": "1.5.0",
            "_model_name": "HBoxModel",
            "_view_count": null,
            "_view_module": "@jupyter-widgets/controls",
            "_view_module_version": "1.5.0",
            "_view_name": "HBoxView",
            "box_style": "",
            "children": [
              "IPY_MODEL_4805c45e604f411db08047228a190809",
              "IPY_MODEL_783993e3d10a4b73b319f73ed1a5b465",
              "IPY_MODEL_5381f2c3c889489494c25c6ab8ae2859"
            ],
            "layout": "IPY_MODEL_387fdf53b701454ba6d0738a775b582e"
          }
        },
        "783993e3d10a4b73b319f73ed1a5b465": {
          "model_module": "@jupyter-widgets/controls",
          "model_module_version": "1.5.0",
          "model_name": "FloatProgressModel",
          "state": {
            "_dom_classes": [],
            "_model_module": "@jupyter-widgets/controls",
            "_model_module_version": "1.5.0",
            "_model_name": "FloatProgressModel",
            "_view_count": null,
            "_view_module": "@jupyter-widgets/controls",
            "_view_module_version": "1.5.0",
            "_view_name": "ProgressView",
            "bar_style": "success",
            "description": "",
            "description_tooltip": null,
            "layout": "IPY_MODEL_338beb17c4e94c04bdc63f7a80ab5cf1",
            "max": 1,
            "min": 0,
            "orientation": "horizontal",
            "style": "IPY_MODEL_8109e742da024e8f82afdc8f4ca541a5",
            "value": 1
          }
        },
        "78a6de04057a4959831cecdb3366900f": {
          "model_module": "@jupyter-widgets/controls",
          "model_module_version": "1.5.0",
          "model_name": "DescriptionStyleModel",
          "state": {
            "_model_module": "@jupyter-widgets/controls",
            "_model_module_version": "1.5.0",
            "_model_name": "DescriptionStyleModel",
            "_view_count": null,
            "_view_module": "@jupyter-widgets/base",
            "_view_module_version": "1.2.0",
            "_view_name": "StyleView",
            "description_width": ""
          }
        },
        "8109e742da024e8f82afdc8f4ca541a5": {
          "model_module": "@jupyter-widgets/controls",
          "model_module_version": "1.5.0",
          "model_name": "ProgressStyleModel",
          "state": {
            "_model_module": "@jupyter-widgets/controls",
            "_model_module_version": "1.5.0",
            "_model_name": "ProgressStyleModel",
            "_view_count": null,
            "_view_module": "@jupyter-widgets/base",
            "_view_module_version": "1.2.0",
            "_view_name": "StyleView",
            "bar_color": null,
            "description_width": ""
          }
        },
        "bf8eb63256ef4e9ebcbad458655a3049": {
          "model_module": "@jupyter-widgets/controls",
          "model_module_version": "1.5.0",
          "model_name": "DescriptionStyleModel",
          "state": {
            "_model_module": "@jupyter-widgets/controls",
            "_model_module_version": "1.5.0",
            "_model_name": "DescriptionStyleModel",
            "_view_count": null,
            "_view_module": "@jupyter-widgets/base",
            "_view_module_version": "1.2.0",
            "_view_name": "StyleView",
            "description_width": ""
          }
        },
        "cf5890c54c384715873b0f76bf6ece02": {
          "model_module": "@jupyter-widgets/base",
          "model_module_version": "1.2.0",
          "model_name": "LayoutModel",
          "state": {
            "_model_module": "@jupyter-widgets/base",
            "_model_module_version": "1.2.0",
            "_model_name": "LayoutModel",
            "_view_count": null,
            "_view_module": "@jupyter-widgets/base",
            "_view_module_version": "1.2.0",
            "_view_name": "LayoutView",
            "align_content": null,
            "align_items": null,
            "align_self": null,
            "border": null,
            "bottom": null,
            "display": null,
            "flex": null,
            "flex_flow": null,
            "grid_area": null,
            "grid_auto_columns": null,
            "grid_auto_flow": null,
            "grid_auto_rows": null,
            "grid_column": null,
            "grid_gap": null,
            "grid_row": null,
            "grid_template_areas": null,
            "grid_template_columns": null,
            "grid_template_rows": null,
            "height": null,
            "justify_content": null,
            "justify_items": null,
            "left": null,
            "margin": null,
            "max_height": null,
            "max_width": null,
            "min_height": null,
            "min_width": null,
            "object_fit": null,
            "object_position": null,
            "order": null,
            "overflow": null,
            "overflow_x": null,
            "overflow_y": null,
            "padding": null,
            "right": null,
            "top": null,
            "visibility": null,
            "width": null
          }
        }
      }
    }
  },
  "nbformat": 4,
  "nbformat_minor": 0
}
